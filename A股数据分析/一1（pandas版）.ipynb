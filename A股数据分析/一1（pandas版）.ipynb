{
 "cells": [
  {
   "cell_type": "markdown",
   "metadata": {},
   "source": [
    "# 一.1"
   ]
  },
  {
   "cell_type": "code",
   "execution_count": 1,
   "metadata": {},
   "outputs": [],
   "source": [
    "import pandas as pd"
   ]
  },
  {
   "cell_type": "code",
   "execution_count": 5,
   "metadata": {},
   "outputs": [],
   "source": [
    "company = pd.read_csv('公司文件.csv')\n",
    "newsInfo = pd.read_csv('新闻基本信息.csv',on_bad_lines='skip', encoding='utf-8')\n",
    "news_security = pd.read_csv('新闻证券关联.csv')\n"
   ]
  },
  {
   "cell_type": "code",
   "execution_count": 27,
   "metadata": {},
   "outputs": [
    {
     "data": {
      "text/html": [
       "<div>\n",
       "<style scoped>\n",
       "    .dataframe tbody tr th:only-of-type {\n",
       "        vertical-align: middle;\n",
       "    }\n",
       "\n",
       "    .dataframe tbody tr th {\n",
       "        vertical-align: top;\n",
       "    }\n",
       "\n",
       "    .dataframe thead th {\n",
       "        text-align: right;\n",
       "    }\n",
       "</style>\n",
       "<table border=\"1\" class=\"dataframe\">\n",
       "  <thead>\n",
       "    <tr style=\"text-align: right;\">\n",
       "      <th></th>\n",
       "      <th>Stkcd</th>\n",
       "      <th>Stknme</th>\n",
       "      <th>Listdt</th>\n",
       "      <th>Indcd</th>\n",
       "      <th>Indnme</th>\n",
       "      <th>Nindcd</th>\n",
       "      <th>Nindnme</th>\n",
       "      <th>Nnindcd</th>\n",
       "      <th>Nnindnme</th>\n",
       "      <th>IndcdZX</th>\n",
       "      <th>IndnmeZX</th>\n",
       "    </tr>\n",
       "  </thead>\n",
       "  <tbody>\n",
       "    <tr>\n",
       "      <th>0</th>\n",
       "      <td>1</td>\n",
       "      <td>平安银行</td>\n",
       "      <td>1991-04-03</td>\n",
       "      <td>1</td>\n",
       "      <td>金融</td>\n",
       "      <td>I01</td>\n",
       "      <td>银行业</td>\n",
       "      <td>J66</td>\n",
       "      <td>货币金融服务</td>\n",
       "      <td>J66</td>\n",
       "      <td>货币金融服务</td>\n",
       "    </tr>\n",
       "    <tr>\n",
       "      <th>1</th>\n",
       "      <td>2</td>\n",
       "      <td>万科A</td>\n",
       "      <td>1991-01-29</td>\n",
       "      <td>3</td>\n",
       "      <td>房地产</td>\n",
       "      <td>J</td>\n",
       "      <td>房地产业</td>\n",
       "      <td>K70</td>\n",
       "      <td>房地产业</td>\n",
       "      <td>K70</td>\n",
       "      <td>房地产业</td>\n",
       "    </tr>\n",
       "    <tr>\n",
       "      <th>2</th>\n",
       "      <td>3</td>\n",
       "      <td>PT 金田A</td>\n",
       "      <td>1991-07-03</td>\n",
       "      <td>4</td>\n",
       "      <td>综合</td>\n",
       "      <td>M</td>\n",
       "      <td>综合类</td>\n",
       "      <td>S90</td>\n",
       "      <td>综合</td>\n",
       "      <td>S91</td>\n",
       "      <td>综合</td>\n",
       "    </tr>\n",
       "    <tr>\n",
       "      <th>3</th>\n",
       "      <td>4</td>\n",
       "      <td>国华网安</td>\n",
       "      <td>1991-01-14</td>\n",
       "      <td>2</td>\n",
       "      <td>公用事业</td>\n",
       "      <td>G87</td>\n",
       "      <td>计算机应用服务业</td>\n",
       "      <td>I65</td>\n",
       "      <td>软件和信息技术服务业</td>\n",
       "      <td>I65</td>\n",
       "      <td>软件和信息技术服务业</td>\n",
       "    </tr>\n",
       "    <tr>\n",
       "      <th>4</th>\n",
       "      <td>5</td>\n",
       "      <td>ST 星源</td>\n",
       "      <td>1990-12-10</td>\n",
       "      <td>2</td>\n",
       "      <td>公用事业</td>\n",
       "      <td>K99</td>\n",
       "      <td>其他社会服务业</td>\n",
       "      <td>N77</td>\n",
       "      <td>生态保护和环境治理业</td>\n",
       "      <td>N77</td>\n",
       "      <td>生态保护和环境治理业</td>\n",
       "    </tr>\n",
       "  </tbody>\n",
       "</table>\n",
       "</div>"
      ],
      "text/plain": [
       "   Stkcd  Stknme      Listdt  Indcd Indnme Nindcd   Nindnme Nnindcd  \\\n",
       "0      1    平安银行  1991-04-03      1     金融    I01       银行业     J66   \n",
       "1      2     万科A  1991-01-29      3    房地产      J      房地产业     K70   \n",
       "2      3  PT 金田A  1991-07-03      4     综合      M       综合类     S90   \n",
       "3      4    国华网安  1991-01-14      2   公用事业    G87  计算机应用服务业     I65   \n",
       "4      5   ST 星源  1990-12-10      2   公用事业    K99   其他社会服务业     N77   \n",
       "\n",
       "     Nnindnme IndcdZX    IndnmeZX  \n",
       "0      货币金融服务     J66      货币金融服务  \n",
       "1        房地产业     K70        房地产业  \n",
       "2          综合     S91          综合  \n",
       "3  软件和信息技术服务业     I65  软件和信息技术服务业  \n",
       "4  生态保护和环境治理业     N77  生态保护和环境治理业  "
      ]
     },
     "execution_count": 27,
     "metadata": {},
     "output_type": "execute_result"
    }
   ],
   "source": [
    "company.head()"
   ]
  },
  {
   "cell_type": "code",
   "execution_count": 7,
   "metadata": {},
   "outputs": [
    {
     "data": {
      "text/html": [
       "<div>\n",
       "<style scoped>\n",
       "    .dataframe tbody tr th:only-of-type {\n",
       "        vertical-align: middle;\n",
       "    }\n",
       "\n",
       "    .dataframe tbody tr th {\n",
       "        vertical-align: top;\n",
       "    }\n",
       "\n",
       "    .dataframe thead th {\n",
       "        text-align: right;\n",
       "    }\n",
       "</style>\n",
       "<table border=\"1\" class=\"dataframe\">\n",
       "  <thead>\n",
       "    <tr style=\"text-align: right;\">\n",
       "      <th></th>\n",
       "      <th>NewsID</th>\n",
       "      <th>DeclareDate</th>\n",
       "      <th>Title</th>\n",
       "      <th>FullDeclareDate</th>\n",
       "      <th>Autor</th>\n",
       "      <th>NewsContent</th>\n",
       "      <th>NewsSourceID</th>\n",
       "      <th>NewsSource</th>\n",
       "    </tr>\n",
       "  </thead>\n",
       "  <tbody>\n",
       "    <tr>\n",
       "      <th>0</th>\n",
       "      <td>105752655</td>\n",
       "      <td>2022-01-01</td>\n",
       "      <td>每月兑付8000元现金！恒大财富更新兑付方案</td>\n",
       "      <td>2022-01-01 00:24:00</td>\n",
       "      <td>NaN</td>\n",
       "      <td>12月31日，恒大财富官网发布《恒大财富投资产品兑付方案》，明确2021年12月及2022年...</td>\n",
       "      <td>2.0</td>\n",
       "      <td>中国证券报</td>\n",
       "    </tr>\n",
       "    <tr>\n",
       "      <th>1</th>\n",
       "      <td>105752656</td>\n",
       "      <td>2022-01-01</td>\n",
       "      <td>美股叮咚买菜盘中涨超40%</td>\n",
       "      <td>2022-01-01 00:26:00</td>\n",
       "      <td>NaN</td>\n",
       "      <td>美股叮咚买菜盘中上涨41.25%，现报21.300美元，当前市值为50.28亿美元（文章来源...</td>\n",
       "      <td>NaN</td>\n",
       "      <td>哈富资讯</td>\n",
       "    </tr>\n",
       "    <tr>\n",
       "      <th>2</th>\n",
       "      <td>105752657</td>\n",
       "      <td>2022-01-01</td>\n",
       "      <td>许家印元旦致信全体员工：誓把保交楼进行到底</td>\n",
       "      <td>2022-01-01 00:26:00</td>\n",
       "      <td>NaN</td>\n",
       "      <td>2022年元旦，许家印在给恒大全体员工的新年致辞中透露，目前恒大全国项目复工率已达91.7%...</td>\n",
       "      <td>NaN</td>\n",
       "      <td>智通财经网</td>\n",
       "    </tr>\n",
       "    <tr>\n",
       "      <th>3</th>\n",
       "      <td>105752658</td>\n",
       "      <td>2022-01-01</td>\n",
       "      <td>恒大公布一大波现场照片：全国这些楼盘交付了</td>\n",
       "      <td>2022-01-01 00:06:00</td>\n",
       "      <td>NaN</td>\n",
       "      <td>2021年12月31日，恒大集团官方微信号发布消息，恒大全国100多个楼盘迎来最重要的时刻—...</td>\n",
       "      <td>6.0</td>\n",
       "      <td>每日经济新闻</td>\n",
       "    </tr>\n",
       "    <tr>\n",
       "      <th>4</th>\n",
       "      <td>105752659</td>\n",
       "      <td>2022-01-01</td>\n",
       "      <td>恒大财富发布最新公告！公布未来3个月兑付方案：每月向每位投资人兑付本金8000元</td>\n",
       "      <td>2022-01-01 00:06:00</td>\n",
       "      <td>NaN</td>\n",
       "      <td>2021年12月31日，恒大财富发布公告，恒大财富兑付方案自2021年9月13日实施以来，广...</td>\n",
       "      <td>6.0</td>\n",
       "      <td>每日经济新闻</td>\n",
       "    </tr>\n",
       "  </tbody>\n",
       "</table>\n",
       "</div>"
      ],
      "text/plain": [
       "      NewsID DeclareDate                                     Title  \\\n",
       "0  105752655  2022-01-01                    每月兑付8000元现金！恒大财富更新兑付方案   \n",
       "1  105752656  2022-01-01                             美股叮咚买菜盘中涨超40%   \n",
       "2  105752657  2022-01-01                     许家印元旦致信全体员工：誓把保交楼进行到底   \n",
       "3  105752658  2022-01-01                     恒大公布一大波现场照片：全国这些楼盘交付了   \n",
       "4  105752659  2022-01-01  恒大财富发布最新公告！公布未来3个月兑付方案：每月向每位投资人兑付本金8000元   \n",
       "\n",
       "       FullDeclareDate Autor  \\\n",
       "0  2022-01-01 00:24:00   NaN   \n",
       "1  2022-01-01 00:26:00   NaN   \n",
       "2  2022-01-01 00:26:00   NaN   \n",
       "3  2022-01-01 00:06:00   NaN   \n",
       "4  2022-01-01 00:06:00   NaN   \n",
       "\n",
       "                                         NewsContent  NewsSourceID NewsSource  \n",
       "0  12月31日，恒大财富官网发布《恒大财富投资产品兑付方案》，明确2021年12月及2022年...           2.0      中国证券报  \n",
       "1  美股叮咚买菜盘中上涨41.25%，现报21.300美元，当前市值为50.28亿美元（文章来源...           NaN       哈富资讯  \n",
       "2  2022年元旦，许家印在给恒大全体员工的新年致辞中透露，目前恒大全国项目复工率已达91.7%...           NaN      智通财经网  \n",
       "3  2021年12月31日，恒大集团官方微信号发布消息，恒大全国100多个楼盘迎来最重要的时刻—...           6.0     每日经济新闻  \n",
       "4  2021年12月31日，恒大财富发布公告，恒大财富兑付方案自2021年9月13日实施以来，广...           6.0     每日经济新闻  "
      ]
     },
     "execution_count": 7,
     "metadata": {},
     "output_type": "execute_result"
    }
   ],
   "source": [
    "newsInfo.head()"
   ]
  },
  {
   "cell_type": "code",
   "execution_count": 8,
   "metadata": {},
   "outputs": [
    {
     "data": {
      "text/html": [
       "<div>\n",
       "<style scoped>\n",
       "    .dataframe tbody tr th:only-of-type {\n",
       "        vertical-align: middle;\n",
       "    }\n",
       "\n",
       "    .dataframe tbody tr th {\n",
       "        vertical-align: top;\n",
       "    }\n",
       "\n",
       "    .dataframe thead th {\n",
       "        text-align: right;\n",
       "    }\n",
       "</style>\n",
       "<table border=\"1\" class=\"dataframe\">\n",
       "  <thead>\n",
       "    <tr style=\"text-align: right;\">\n",
       "      <th></th>\n",
       "      <th>NewsID</th>\n",
       "      <th>DeclareDate</th>\n",
       "      <th>Title</th>\n",
       "      <th>Symbol</th>\n",
       "      <th>ShortName</th>\n",
       "      <th>SecurityTypeID</th>\n",
       "      <th>SecurityType</th>\n",
       "      <th>FullDeclareDate</th>\n",
       "    </tr>\n",
       "  </thead>\n",
       "  <tbody>\n",
       "    <tr>\n",
       "      <th>0</th>\n",
       "      <td>105752709</td>\n",
       "      <td>2022-01-01</td>\n",
       "      <td>又见高管变动！这次是长江副总裁罗国华 将出任上海证券总经理 拥有银保证丰富经验</td>\n",
       "      <td>783</td>\n",
       "      <td>长江证券</td>\n",
       "      <td>P50100</td>\n",
       "      <td>A股</td>\n",
       "      <td>2022-01-01 00:37:00</td>\n",
       "    </tr>\n",
       "    <tr>\n",
       "      <th>1</th>\n",
       "      <td>105752765</td>\n",
       "      <td>2022-01-01</td>\n",
       "      <td>打造“东方氢岛” 多家上市公司积极布局</td>\n",
       "      <td>723</td>\n",
       "      <td>美锦能源</td>\n",
       "      <td>P50100</td>\n",
       "      <td>A股</td>\n",
       "      <td>2022-01-01 07:44:00</td>\n",
       "    </tr>\n",
       "    <tr>\n",
       "      <th>2</th>\n",
       "      <td>105752781</td>\n",
       "      <td>2022-01-01</td>\n",
       "      <td>压力下的六个核桃何去何从？养元饮品坚持“长期主义”厚积薄发带来巨大商机</td>\n",
       "      <td>603156</td>\n",
       "      <td>养元饮品</td>\n",
       "      <td>P50100</td>\n",
       "      <td>A股</td>\n",
       "      <td>2022-01-01 09:16:00</td>\n",
       "    </tr>\n",
       "    <tr>\n",
       "      <th>3</th>\n",
       "      <td>105752782</td>\n",
       "      <td>2022-01-01</td>\n",
       "      <td>自曝涉新冠口服药股价暴涨 实控人刚披露减持计划 广生堂领关注函后这样回复！</td>\n",
       "      <td>300436</td>\n",
       "      <td>广生堂</td>\n",
       "      <td>P50100</td>\n",
       "      <td>A股</td>\n",
       "      <td>2022-01-01 08:14:00</td>\n",
       "    </tr>\n",
       "    <tr>\n",
       "      <th>4</th>\n",
       "      <td>105752783</td>\n",
       "      <td>2022-01-01</td>\n",
       "      <td>【天风优选小市值】信安世纪：增速符合预期 业务新增量值得期待</td>\n",
       "      <td>688201</td>\n",
       "      <td>信安世纪</td>\n",
       "      <td>P50100</td>\n",
       "      <td>A股</td>\n",
       "      <td>2022-01-01 09:05:00</td>\n",
       "    </tr>\n",
       "  </tbody>\n",
       "</table>\n",
       "</div>"
      ],
      "text/plain": [
       "      NewsID DeclareDate                                    Title  Symbol  \\\n",
       "0  105752709  2022-01-01  又见高管变动！这次是长江副总裁罗国华 将出任上海证券总经理 拥有银保证丰富经验     783   \n",
       "1  105752765  2022-01-01                      打造“东方氢岛” 多家上市公司积极布局     723   \n",
       "2  105752781  2022-01-01      压力下的六个核桃何去何从？养元饮品坚持“长期主义”厚积薄发带来巨大商机  603156   \n",
       "3  105752782  2022-01-01    自曝涉新冠口服药股价暴涨 实控人刚披露减持计划 广生堂领关注函后这样回复！  300436   \n",
       "4  105752783  2022-01-01           【天风优选小市值】信安世纪：增速符合预期 业务新增量值得期待  688201   \n",
       "\n",
       "  ShortName SecurityTypeID SecurityType      FullDeclareDate  \n",
       "0      长江证券         P50100           A股  2022-01-01 00:37:00  \n",
       "1      美锦能源         P50100           A股  2022-01-01 07:44:00  \n",
       "2      养元饮品         P50100           A股  2022-01-01 09:16:00  \n",
       "3       广生堂         P50100           A股  2022-01-01 08:14:00  \n",
       "4      信安世纪         P50100           A股  2022-01-01 09:05:00  "
      ]
     },
     "execution_count": 8,
     "metadata": {},
     "output_type": "execute_result"
    }
   ],
   "source": [
    "news_security.head()"
   ]
  },
  {
   "cell_type": "code",
   "execution_count": 49,
   "metadata": {},
   "outputs": [],
   "source": [
    "#提取 时间 作者 来源 正文\n",
    "extracted_newsInfo = newsInfo[['NewsID','FullDeclareDate', 'Autor', 'NewsSource', 'NewsContent']]"
   ]
  },
  {
   "cell_type": "code",
   "execution_count": 12,
   "metadata": {},
   "outputs": [],
   "source": [
    "#合并新闻信息和新闻证券关联表，提取每个新闻的证券代码\n",
    "merged_data = pd.merge(newsInfo, news_security, on='NewsID', how='left')"
   ]
  },
  {
   "cell_type": "code",
   "execution_count": 17,
   "metadata": {},
   "outputs": [
    {
     "data": {
      "text/plain": [
       "array([        nan, 7.83000e+02, 7.23000e+02, ..., 6.00333e+05,\n",
       "       6.00631e+05, 8.39371e+05])"
      ]
     },
     "execution_count": 17,
     "metadata": {},
     "output_type": "execute_result"
    }
   ],
   "source": [
    "merged_data.head()\n",
    "extracted_merged_data = merged_data[['NewsID', 'Symbol']]"
   ]
  },
  {
   "cell_type": "code",
   "execution_count": 37,
   "metadata": {},
   "outputs": [
    {
     "data": {
      "text/plain": [
       "array([        nan, 7.83000e+02, 7.23000e+02, ..., 6.00333e+05,\n",
       "       6.00631e+05, 8.39371e+05])"
      ]
     },
     "execution_count": 37,
     "metadata": {},
     "output_type": "execute_result"
    }
   ],
   "source": [
    "extracted_merged_data['Symbol'].unique()"
   ]
  },
  {
   "cell_type": "code",
   "execution_count": 30,
   "metadata": {},
   "outputs": [
    {
     "data": {
      "text/plain": [
       "array([     1,      2,      3, ..., 900956, 900957, 920002], dtype=int64)"
      ]
     },
     "execution_count": 30,
     "metadata": {},
     "output_type": "execute_result"
    }
   ],
   "source": [
    "company['Stkcd'].unique()"
   ]
  },
  {
   "cell_type": "code",
   "execution_count": 34,
   "metadata": {},
   "outputs": [
    {
     "data": {
      "text/plain": [
       "5013"
      ]
     },
     "execution_count": 34,
     "metadata": {},
     "output_type": "execute_result"
    }
   ],
   "source": [
    "len(set(extracted_merged_data['Symbol'].unique()) & set(company['Stkcd'].unique()))"
   ]
  },
  {
   "cell_type": "code",
   "execution_count": 38,
   "metadata": {},
   "outputs": [
    {
     "name": "stderr",
     "output_type": "stream",
     "text": [
      "C:\\Users\\王鸿轩\\AppData\\Local\\Temp\\ipykernel_39232\\1131270620.py:1: SettingWithCopyWarning: \n",
      "A value is trying to be set on a copy of a slice from a DataFrame\n",
      "\n",
      "See the caveats in the documentation: https://pandas.pydata.org/pandas-docs/stable/user_guide/indexing.html#returning-a-view-versus-a-copy\n",
      "  extracted_merged_data.rename(columns={'Symbol': 'Stkcd'}, inplace=True)\n"
     ]
    }
   ],
   "source": [
    "extracted_merged_data.rename(columns={'Symbol': 'Stkcd'}, inplace=True)\n",
    "news_industry = pd.merge(extracted_merged_data,company,on='Stkcd', how='left')"
   ]
  },
  {
   "cell_type": "code",
   "execution_count": 50,
   "metadata": {},
   "outputs": [],
   "source": [
    "finalData=pd.merge(extracted_newsInfo, news_industry, on='NewsID', how='left')"
   ]
  },
  {
   "cell_type": "code",
   "execution_count": 51,
   "metadata": {},
   "outputs": [],
   "source": [
    "SubmitData=finalData[['FullDeclareDate','Autor','NewsSource','NewsContent','Indcd','Indnme','Nindcd','Nindnme','Nnindcd','Nnindnme','IndcdZX','IndnmeZX']]"
   ]
  },
  {
   "cell_type": "code",
   "execution_count": 54,
   "metadata": {},
   "outputs": [],
   "source": [
    "SubmitData.to_excel('SubmitData.xlsx',index=False)"
   ]
  }
 ],
 "metadata": {
  "kernelspec": {
   "display_name": "Python 3",
   "language": "python",
   "name": "python3"
  },
  "language_info": {
   "codemirror_mode": {
    "name": "ipython",
    "version": 3
   },
   "file_extension": ".py",
   "mimetype": "text/x-python",
   "name": "python",
   "nbconvert_exporter": "python",
   "pygments_lexer": "ipython3",
   "version": "3.10.12"
  }
 },
 "nbformat": 4,
 "nbformat_minor": 2
}

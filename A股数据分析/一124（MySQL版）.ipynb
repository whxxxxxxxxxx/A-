{
 "cells": [
  {
   "cell_type": "code",
   "execution_count": 1,
   "metadata": {},
   "outputs": [],
   "source": [
    "import pandas as pd\n",
    "from sqlalchemy import create_engine"
   ]
  },
  {
   "cell_type": "code",
   "execution_count": 12,
   "metadata": {},
   "outputs": [
    {
     "name": "stderr",
     "output_type": "stream",
     "text": [
      "C:\\Users\\王鸿轩\\AppData\\Local\\Temp\\ipykernel_17860\\2867431352.py:3: DtypeWarning: Columns (6) have mixed types. Specify dtype option on import or set low_memory=False.\n",
      "  newsInfo2 = pd.read_csv('新闻基本信息表2.csv',on_bad_lines='skip', encoding='utf-8')\n"
     ]
    }
   ],
   "source": [
    "company = pd.read_csv('公司文件.csv')\n",
    "newsInfo1 = pd.read_csv('新闻基本信息表1.csv',on_bad_lines='skip', encoding='utf-8')\n",
    "newsInfo2 = pd.read_csv('新闻基本信息表2.csv',on_bad_lines='skip', encoding='utf-8')\n",
    "newsInfo3 = pd.read_csv('新闻基本信息表3.csv',on_bad_lines='skip', encoding='utf-8')\n",
    "newsInfo=pd.concat([newsInfo1,newsInfo2,newsInfo3])\n",
    "#截断正文数据，防止数据库存放时出现过长字段\n",
    "newsInfo['NewsContent'] = newsInfo['NewsContent'].apply(lambda x: x[:255] if isinstance(x, str) else '')\n",
    "news_security = pd.read_csv('新闻证券关联.csv')\n"
   ]
  },
  {
   "cell_type": "code",
   "execution_count": 2,
   "metadata": {},
   "outputs": [],
   "source": [
    "db_user = 'user'\n",
    "db_password = 'password'\n",
    "db_host = 'localhost' \n",
    "db_port = '23306'\n",
    "db_name = 'database'\n",
    "\n",
    "# 创建数据库引擎\n",
    "engine = create_engine(f'mysql+pymysql://{db_user}:{db_password}@{db_host}:{db_port}/{db_name}')\n"
   ]
  },
  {
   "cell_type": "code",
   "execution_count": 4,
   "metadata": {},
   "outputs": [
    {
     "data": {
      "text/plain": [
       "430956"
      ]
     },
     "execution_count": 4,
     "metadata": {},
     "output_type": "execute_result"
    }
   ],
   "source": [
    "\n",
    "# 将 DataFrame 写入数据库\n",
    "table_name = 'company' \n",
    "company.to_sql(table_name, con=engine, if_exists='replace', index=False)\n",
    "table_name = 'newsInfo'  \n",
    "newsInfo.to_sql(table_name, con=engine, if_exists='replace', index=False)\n",
    "table_name = 'news_security'  \n",
    "news_security.to_sql(table_name, con=engine, if_exists='replace', index=False)\n"
   ]
  },
  {
   "cell_type": "code",
   "execution_count": 5,
   "metadata": {},
   "outputs": [],
   "source": [
    "# SQL 查询语句\n",
    "query = \"\"\"\n",
    "SELECT \n",
    "    ni.NewsID,\n",
    "    ni.DeclareDate,\n",
    "    ni.Title,\n",
    "    ni.FullDeclareDate,\n",
    "    ni.Autor,\n",
    "    ni.NewsContent,\n",
    "    ni.NewsSource,\n",
    "    si.Indcd,\n",
    "    si.Indnme,\n",
    "    si.Nindcd,\n",
    "    si.Nindnme,\n",
    "    si.Nnindcd,\n",
    "    si.Nnindnme,\n",
    "    si.IndcdZX,\n",
    "    si.IndnmeZX\n",
    "FROM \n",
    "    newsInfo ni\n",
    "JOIN \n",
    "    news_security ns ON ni.NewsID = ns.NewsID\n",
    "JOIN \n",
    "    company si ON ns.Symbol = si.Stkcd;\n",
    "\"\"\"\n",
    "\n",
    "df1 = pd.read_sql_query(query, engine)\n"
   ]
  },
  {
   "cell_type": "code",
   "execution_count": 6,
   "metadata": {},
   "outputs": [],
   "source": [
    "df1.to_excel('SubmitData.xlsx', index=False)"
   ]
  },
  {
   "cell_type": "code",
   "execution_count": 7,
   "metadata": {},
   "outputs": [
    {
     "data": {
      "text/plain": [
       "424674"
      ]
     },
     "execution_count": 7,
     "metadata": {},
     "output_type": "execute_result"
    }
   ],
   "source": [
    "#把数据存储为新表\n",
    "table_name = 'news_industry'\n",
    "df1.to_sql(table_name, con=engine, if_exists='replace', index=False)"
   ]
  },
  {
   "cell_type": "code",
   "execution_count": 8,
   "metadata": {},
   "outputs": [
    {
     "data": {
      "text/html": [
       "<div>\n",
       "<style scoped>\n",
       "    .dataframe tbody tr th:only-of-type {\n",
       "        vertical-align: middle;\n",
       "    }\n",
       "\n",
       "    .dataframe tbody tr th {\n",
       "        vertical-align: top;\n",
       "    }\n",
       "\n",
       "    .dataframe thead th {\n",
       "        text-align: right;\n",
       "    }\n",
       "</style>\n",
       "<table border=\"1\" class=\"dataframe\">\n",
       "  <thead>\n",
       "    <tr style=\"text-align: right;\">\n",
       "      <th></th>\n",
       "      <th>NewsID</th>\n",
       "    </tr>\n",
       "  </thead>\n",
       "  <tbody>\n",
       "    <tr>\n",
       "      <th>0</th>\n",
       "      <td>105753522</td>\n",
       "    </tr>\n",
       "    <tr>\n",
       "      <th>1</th>\n",
       "      <td>105760527</td>\n",
       "    </tr>\n",
       "    <tr>\n",
       "      <th>2</th>\n",
       "      <td>105763045</td>\n",
       "    </tr>\n",
       "    <tr>\n",
       "      <th>3</th>\n",
       "      <td>105767900</td>\n",
       "    </tr>\n",
       "    <tr>\n",
       "      <th>4</th>\n",
       "      <td>105770846</td>\n",
       "    </tr>\n",
       "    <tr>\n",
       "      <th>...</th>\n",
       "      <td>...</td>\n",
       "    </tr>\n",
       "    <tr>\n",
       "      <th>3475</th>\n",
       "      <td>107509621</td>\n",
       "    </tr>\n",
       "    <tr>\n",
       "      <th>3476</th>\n",
       "      <td>107514902</td>\n",
       "    </tr>\n",
       "    <tr>\n",
       "      <th>3477</th>\n",
       "      <td>107514903</td>\n",
       "    </tr>\n",
       "    <tr>\n",
       "      <th>3478</th>\n",
       "      <td>107522480</td>\n",
       "    </tr>\n",
       "    <tr>\n",
       "      <th>3479</th>\n",
       "      <td>107532715</td>\n",
       "    </tr>\n",
       "  </tbody>\n",
       "</table>\n",
       "<p>3480 rows × 1 columns</p>\n",
       "</div>"
      ],
      "text/plain": [
       "         NewsID\n",
       "0     105753522\n",
       "1     105760527\n",
       "2     105763045\n",
       "3     105767900\n",
       "4     105770846\n",
       "...         ...\n",
       "3475  107509621\n",
       "3476  107514902\n",
       "3477  107514903\n",
       "3478  107522480\n",
       "3479  107532715\n",
       "\n",
       "[3480 rows x 1 columns]"
      ]
     },
     "execution_count": 8,
     "metadata": {},
     "output_type": "execute_result"
    }
   ],
   "source": [
    "# sql查询 News Source 为 '东方财富网' 的数据\n",
    "query = \"\"\"\n",
    "SELECT\n",
    "    NewsID\n",
    "FROM\n",
    "    newsInfo\n",
    "WHERE\n",
    "    NewsSource = '东方财富网';\n",
    "\"\"\"\n",
    "\n",
    "dfcfw= pd.read_sql_query(query, engine)\n",
    "dfcfw"
   ]
  },
  {
   "cell_type": "code",
   "execution_count": 17,
   "metadata": {},
   "outputs": [
    {
     "name": "stderr",
     "output_type": "stream",
     "text": [
      "C:\\Users\\王鸿轩\\AppData\\Local\\Temp\\ipykernel_17860\\2883424731.py:2: DtypeWarning: Columns (0) have mixed types. Specify dtype option on import or set low_memory=False.\n",
      "  index2 = pd.read_csv('指数权重2.csv')\n"
     ]
    },
    {
     "data": {
      "text/plain": [
       "1205801"
      ]
     },
     "execution_count": 17,
     "metadata": {},
     "output_type": "execute_result"
    }
   ],
   "source": [
    "index1 = pd.read_csv('指数权重1.csv')\n",
    "index2 = pd.read_csv('指数权重2.csv')\n",
    "index = pd.concat([index1,index2])\n",
    "table_name = 'index_data'\n",
    "index.to_sql(table_name, con=engine, if_exists='replace', index=False)"
   ]
  },
  {
   "cell_type": "code",
   "execution_count": 18,
   "metadata": {},
   "outputs": [
    {
     "data": {
      "text/html": [
       "<div>\n",
       "<style scoped>\n",
       "    .dataframe tbody tr th:only-of-type {\n",
       "        vertical-align: middle;\n",
       "    }\n",
       "\n",
       "    .dataframe tbody tr th {\n",
       "        vertical-align: top;\n",
       "    }\n",
       "\n",
       "    .dataframe thead th {\n",
       "        text-align: right;\n",
       "    }\n",
       "</style>\n",
       "<table border=\"1\" class=\"dataframe\">\n",
       "  <thead>\n",
       "    <tr style=\"text-align: right;\">\n",
       "      <th></th>\n",
       "      <th>Indexcd</th>\n",
       "      <th>Enddt</th>\n",
       "      <th>Stkcd</th>\n",
       "      <th>Constdnme</th>\n",
       "      <th>Weight</th>\n",
       "    </tr>\n",
       "  </thead>\n",
       "  <tbody>\n",
       "    <tr>\n",
       "      <th>205796</th>\n",
       "      <td>H00160</td>\n",
       "      <td>2023-12-29</td>\n",
       "      <td>600018</td>\n",
       "      <td>上港集团</td>\n",
       "      <td>0.708</td>\n",
       "    </tr>\n",
       "    <tr>\n",
       "      <th>205797</th>\n",
       "      <td>H00160</td>\n",
       "      <td>2023-12-29</td>\n",
       "      <td>601618</td>\n",
       "      <td>中国中冶</td>\n",
       "      <td>1.130</td>\n",
       "    </tr>\n",
       "    <tr>\n",
       "      <th>205798</th>\n",
       "      <td>H00160</td>\n",
       "      <td>2023-12-29</td>\n",
       "      <td>600031</td>\n",
       "      <td>三一重工</td>\n",
       "      <td>4.229</td>\n",
       "    </tr>\n",
       "    <tr>\n",
       "      <th>205799</th>\n",
       "      <td>H00160</td>\n",
       "      <td>2023-12-29</td>\n",
       "      <td>601669</td>\n",
       "      <td>中国电建</td>\n",
       "      <td>2.177</td>\n",
       "    </tr>\n",
       "    <tr>\n",
       "      <th>205800</th>\n",
       "      <td>H00160</td>\n",
       "      <td>2023-12-29</td>\n",
       "      <td>600798</td>\n",
       "      <td>宁波海运</td>\n",
       "      <td>0.137</td>\n",
       "    </tr>\n",
       "  </tbody>\n",
       "</table>\n",
       "</div>"
      ],
      "text/plain": [
       "       Indexcd       Enddt   Stkcd Constdnme  Weight\n",
       "205796  H00160  2023-12-29  600018      上港集团   0.708\n",
       "205797  H00160  2023-12-29  601618      中国中冶   1.130\n",
       "205798  H00160  2023-12-29  600031      三一重工   4.229\n",
       "205799  H00160  2023-12-29  601669      中国电建   2.177\n",
       "205800  H00160  2023-12-29  600798      宁波海运   0.137"
      ]
     },
     "execution_count": 18,
     "metadata": {},
     "output_type": "execute_result"
    }
   ],
   "source": [
    "index.tail()"
   ]
  },
  {
   "cell_type": "code",
   "execution_count": 5,
   "metadata": {},
   "outputs": [],
   "source": [
    "query = \"\"\"\n",
    "SELECT\n",
    "    ns.NewsID,ni.Title\n",
    "FROM\n",
    "    index_data i\n",
    "JOIN\n",
    "    news_security ns ON i.Stkcd = ns.Symbol  \n",
    "JOIN\n",
    "    newsInfo ni ON ns.NewsID = ni.NewsID\n",
    "WHERE\n",
    "    i.Indexcd = 300;  \n",
    "\"\"\"\n",
    "\n",
    "hs300_news= pd.read_sql_query(query, engine)\n"
   ]
  },
  {
   "cell_type": "code",
   "execution_count": 6,
   "metadata": {},
   "outputs": [],
   "source": [
    "#去掉重复数据\n",
    "hs300_news.drop_duplicates(subset=['NewsID'], keep='first', inplace=True)"
   ]
  },
  {
   "cell_type": "code",
   "execution_count": 7,
   "metadata": {},
   "outputs": [
    {
     "data": {
      "text/html": [
       "<div>\n",
       "<style scoped>\n",
       "    .dataframe tbody tr th:only-of-type {\n",
       "        vertical-align: middle;\n",
       "    }\n",
       "\n",
       "    .dataframe tbody tr th {\n",
       "        vertical-align: top;\n",
       "    }\n",
       "\n",
       "    .dataframe thead th {\n",
       "        text-align: right;\n",
       "    }\n",
       "</style>\n",
       "<table border=\"1\" class=\"dataframe\">\n",
       "  <thead>\n",
       "    <tr style=\"text-align: right;\">\n",
       "      <th></th>\n",
       "      <th>NewsID</th>\n",
       "      <th>Title</th>\n",
       "    </tr>\n",
       "  </thead>\n",
       "  <tbody>\n",
       "    <tr>\n",
       "      <th>0</th>\n",
       "      <td>105752709</td>\n",
       "      <td>又见高管变动！这次是长江副总裁罗国华 将出任上海证券总经理 拥有银保证丰富经验</td>\n",
       "    </tr>\n",
       "    <tr>\n",
       "      <th>51</th>\n",
       "      <td>105752820</td>\n",
       "      <td>这家券商帅将齐换！新董事长来自全国社保理事会 新总裁来自国信 在下什么棋？</td>\n",
       "    </tr>\n",
       "    <tr>\n",
       "      <th>103</th>\n",
       "      <td>105752822</td>\n",
       "      <td>中石油在上海首座油氢合建站正式投运</td>\n",
       "    </tr>\n",
       "    <tr>\n",
       "      <th>155</th>\n",
       "      <td>105752833</td>\n",
       "      <td>业绩暴跌、涉公务员培训贷、被监管立案 中公教育副总裁这样回应</td>\n",
       "    </tr>\n",
       "    <tr>\n",
       "      <th>207</th>\n",
       "      <td>105752835</td>\n",
       "      <td>中国电信携手中国信通院 深耕城市发展、产业升级和网信安全领域</td>\n",
       "    </tr>\n",
       "    <tr>\n",
       "      <th>...</th>\n",
       "      <td>...</td>\n",
       "      <td>...</td>\n",
       "    </tr>\n",
       "    <tr>\n",
       "      <th>34584931</th>\n",
       "      <td>107188963</td>\n",
       "      <td>下一站 芬兰！杉杉股份拟不超12.8亿欧元投资电池负极材料项目</td>\n",
       "    </tr>\n",
       "    <tr>\n",
       "      <th>34586037</th>\n",
       "      <td>107311525</td>\n",
       "      <td>杉杉股份：截至2023年9月30日 公司及公司控股子公司提供的对外担保总额约为212.29亿元</td>\n",
       "    </tr>\n",
       "    <tr>\n",
       "      <th>34587575</th>\n",
       "      <td>107438273</td>\n",
       "      <td>杉杉股份硅基负极逆势增长 中铝力推轻量化铝材 新能源汽车产业链企业链博会争雄</td>\n",
       "    </tr>\n",
       "    <tr>\n",
       "      <th>34588923</th>\n",
       "      <td>105938137</td>\n",
       "      <td>凯赛生物：2021年净利增32.82%至6.08亿元 拟10派4.5元</td>\n",
       "    </tr>\n",
       "    <tr>\n",
       "      <th>34591896</th>\n",
       "      <td>107189228</td>\n",
       "      <td>凯赛生物：累计回购约22万股 占比0.0369%</td>\n",
       "    </tr>\n",
       "  </tbody>\n",
       "</table>\n",
       "<p>80842 rows × 2 columns</p>\n",
       "</div>"
      ],
      "text/plain": [
       "             NewsID                                            Title\n",
       "0         105752709          又见高管变动！这次是长江副总裁罗国华 将出任上海证券总经理 拥有银保证丰富经验\n",
       "51        105752820            这家券商帅将齐换！新董事长来自全国社保理事会 新总裁来自国信 在下什么棋？\n",
       "103       105752822                                中石油在上海首座油氢合建站正式投运\n",
       "155       105752833                   业绩暴跌、涉公务员培训贷、被监管立案 中公教育副总裁这样回应\n",
       "207       105752835                   中国电信携手中国信通院 深耕城市发展、产业升级和网信安全领域\n",
       "...             ...                                              ...\n",
       "34584931  107188963                  下一站 芬兰！杉杉股份拟不超12.8亿欧元投资电池负极材料项目\n",
       "34586037  107311525  杉杉股份：截至2023年9月30日 公司及公司控股子公司提供的对外担保总额约为212.29亿元\n",
       "34587575  107438273           杉杉股份硅基负极逆势增长 中铝力推轻量化铝材 新能源汽车产业链企业链博会争雄\n",
       "34588923  105938137              凯赛生物：2021年净利增32.82%至6.08亿元 拟10派4.5元\n",
       "34591896  107189228                         凯赛生物：累计回购约22万股 占比0.0369%\n",
       "\n",
       "[80842 rows x 2 columns]"
      ]
     },
     "execution_count": 7,
     "metadata": {},
     "output_type": "execute_result"
    }
   ],
   "source": [
    "hs300_news"
   ]
  },
  {
   "cell_type": "code",
   "execution_count": 3,
   "metadata": {},
   "outputs": [],
   "source": [
    "query = \"\"\"\n",
    "SELECT\n",
    "    *\n",
    "FROM\n",
    "    news\n",
    "\"\"\"\n",
    "\n",
    "totalnews= pd.read_sql_query(query, engine)\n",
    "totalnews.to_excel('totalnews.xlsx', index=False)\n"
   ]
  }
 ],
 "metadata": {
  "kernelspec": {
   "display_name": "Python 3",
   "language": "python",
   "name": "python3"
  },
  "language_info": {
   "codemirror_mode": {
    "name": "ipython",
    "version": 3
   },
   "file_extension": ".py",
   "mimetype": "text/x-python",
   "name": "python",
   "nbconvert_exporter": "python",
   "pygments_lexer": "ipython3",
   "version": "3.10.12"
  }
 },
 "nbformat": 4,
 "nbformat_minor": 2
}
